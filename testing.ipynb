{
 "cells": [
  {
   "cell_type": "code",
   "execution_count": 1,
   "metadata": {},
   "outputs": [],
   "source": [
    "import pandas as pd\n",
    "import pyodbc as odbc\n",
    "\n",
    "import helper_functions as hf"
   ]
  },
  {
   "cell_type": "code",
   "execution_count": 24,
   "metadata": {},
   "outputs": [],
   "source": [
    "transactions = pd.read_csv(hf.create_dir(r'G:\\My Drive\\DANIELS ECOSYSTEM\\extracurricularActivities\\DataScience\\Projects\\budget_warehouse', 'transactions_insert.csv'))\n",
    "unique_categories = transactions['Category']\n",
    "\n",
    "categories = hf.get_data('select * from categories_DIM', 'budget')\n",
    "spending_groups = hf.get_data('select * from spending_groups_DIM', 'budget')\n",
    "accounts = hf.get_data('select * from accounts_DIM', 'budget')\n",
    "dates = hf.get_data('select * from Date_DIM', 'budget')\n",
    "\n",
    "# spending_group_mapping = dict(spending_groups.iloc[:, [1, 0]].values)\n",
    "# category_mapping = dict(categories.iloc[:, [1, 0]].values)\n",
    "# account_mapping = dict(accounts.iloc[:, [2, 0]].values)\n",
    "# transactions['spending_group_key'] = transactions['Spending Group'].map(spending_group_mapping)\n",
    "# transactions['category_key'] = transactions['Category'].map(category_mapping)\n",
    "# transactions['account_key'] = transactions['Account'].map(account_mapping)\n",
    "# transactions['date_key'] = [x.replace('/', '') for x in transactions['Date']]\n",
    "# transactions.rename(columns={'Amount':'amount', 'Description':'description'}, inplace=True)\n",
    "# transactions = transactions[['date_key', 'category_key', 'spending_group_key', 'account_key', 'description', 'amount']]\n",
    "\n",
    "# con, cur = hf.create_database_connection('budget')\n",
    "\n",
    "# for i, v in transactions.iterrows():\n",
    "#     cur.execute('INSERT INTO [dbo].[transactions_Fact] ([date_key], [category_key], [spending_group_key], [account_key], [description], [amount]) VALUES(?, ?, ?, ?, ?, ?)', v.date_key, v.category_key, v.spending_group_key, v.account_key, v.description, v.amount)\n",
    "# cur.commit()\n",
    "# con.commit()\n",
    "# cur.close()"
   ]
  },
  {
   "cell_type": "code",
   "execution_count": 6,
   "metadata": {},
   "outputs": [],
   "source": [
    "transactions = pd.read_csv(hf.create_dir(r'G:\\My Drive\\DANIELS ECOSYSTEM\\extracurricularActivities\\DataScience\\Projects\\budget_warehouse', 'transactions_insert.csv'))\n",
    "categories = hf.get_data('select * from categories_DIM', 'budget')\n",
    "accounts"
   ]
  },
  {
   "cell_type": "markdown",
   "metadata": {},
   "source": [
    "# Update dimension tables"
   ]
  },
  {
   "cell_type": "code",
   "execution_count": 38,
   "metadata": {},
   "outputs": [
    {
     "name": "stdout",
     "output_type": "stream",
     "text": [
      "\n",
      "            INSERT INTO [dbo].[categories_DIM] ([category_name]) VALUES ('nan');\n",
      "            \n",
      "\n",
      "            INSERT INTO [dbo].[categories_DIM] ([category_name]) VALUES ('Transfer');\n",
      "            \n",
      "\n",
      "            INSERT INTO [dbo].[spending_groups_DIM] ([spending_group_name]) VALUES ('Day-to-day');\n",
      "            \n",
      "\n",
      "            INSERT INTO [dbo].[accounts_DIM] ([account_name]) VALUES ('Income');\n",
      "            \n"
     ]
    },
    {
     "ename": "IndexError",
     "evalue": "list index out of range",
     "output_type": "error",
     "traceback": [
      "\u001b[1;31m---------------------------------------------------------------------------\u001b[0m",
      "\u001b[1;31mIndexError\u001b[0m                                Traceback (most recent call last)",
      "\u001b[1;32mc:\\Users\\regan\\OneDrive - 22Seven Digital\\5-scripts\\Github\\Data-Warehousing\\testing.ipynb Cell 5\u001b[0m in \u001b[0;36m<cell line: 15>\u001b[1;34m()\u001b[0m\n\u001b[0;32m     <a href='vscode-notebook-cell:/c%3A/Users/regan/OneDrive%20-%2022Seven%20Digital/5-scripts/Github/Data-Warehousing/testing.ipynb#W3sZmlsZQ%3D%3D?line=18'>19</a>\u001b[0m values_to_add \u001b[39m=\u001b[39m [x \u001b[39mfor\u001b[39;00m x \u001b[39min\u001b[39;00m trxs_values \u001b[39mif\u001b[39;00m x \u001b[39mnot\u001b[39;00m \u001b[39min\u001b[39;00m db_values]\n\u001b[0;32m     <a href='vscode-notebook-cell:/c%3A/Users/regan/OneDrive%20-%2022Seven%20Digital/5-scripts/Github/Data-Warehousing/testing.ipynb#W3sZmlsZQ%3D%3D?line=20'>21</a>\u001b[0m \u001b[39mfor\u001b[39;00m j, k \u001b[39min\u001b[39;00m \u001b[39menumerate\u001b[39m(values_to_add):\n\u001b[0;32m     <a href='vscode-notebook-cell:/c%3A/Users/regan/OneDrive%20-%2022Seven%20Digital/5-scripts/Github/Data-Warehousing/testing.ipynb#W3sZmlsZQ%3D%3D?line=21'>22</a>\u001b[0m     query \u001b[39m=\u001b[39m \u001b[39mf\u001b[39m\u001b[39m'''\u001b[39m\n\u001b[1;32m---> <a href='vscode-notebook-cell:/c%3A/Users/regan/OneDrive%20-%2022Seven%20Digital/5-scripts/Github/Data-Warehousing/testing.ipynb#W3sZmlsZQ%3D%3D?line=22'>23</a>\u001b[0m \u001b[39m        INSERT INTO [dbo].[\u001b[39m\u001b[39m{\u001b[39;00m\u001b[39mlist\u001b[39m(dimension_update_variables\u001b[39m.\u001b[39mvalues())[j]\u001b[39m.\u001b[39mget(\u001b[39m'\u001b[39m\u001b[39mdb_tbl_name\u001b[39m\u001b[39m'\u001b[39m)\u001b[39m}\u001b[39;00m\u001b[39m] ([\u001b[39m\u001b[39m{\u001b[39;00m\u001b[39mlist\u001b[39m(dimension_update_variables\u001b[39m.\u001b[39mvalues())[j]\u001b[39m.\u001b[39mget(\u001b[39m'\u001b[39m\u001b[39mdb_column_name\u001b[39m\u001b[39m'\u001b[39m)\u001b[39m}\u001b[39;00m\u001b[39m]) VALUES (\u001b[39m\u001b[39m'\u001b[39m\u001b[39m{\u001b[39;00mk\u001b[39m}\u001b[39;00m\u001b[39m'\u001b[39m\u001b[39m);\u001b[39m\n\u001b[0;32m     <a href='vscode-notebook-cell:/c%3A/Users/regan/OneDrive%20-%2022Seven%20Digital/5-scripts/Github/Data-Warehousing/testing.ipynb#W3sZmlsZQ%3D%3D?line=23'>24</a>\u001b[0m \u001b[39m        \u001b[39m\u001b[39m'''\u001b[39m\n\u001b[0;32m     <a href='vscode-notebook-cell:/c%3A/Users/regan/OneDrive%20-%2022Seven%20Digital/5-scripts/Github/Data-Warehousing/testing.ipynb#W3sZmlsZQ%3D%3D?line=24'>25</a>\u001b[0m     \u001b[39mprint\u001b[39m(query)\n",
      "\u001b[1;31mIndexError\u001b[0m: list index out of range"
     ]
    }
   ],
   "source": [
    "dimension_update_variables = {'categories':{'trxs_column_name': 'Category',\n",
    "                                            'db_column_name': 'category_name',\n",
    "                                            'db_tbl_name': 'categories_DIM'},\n",
    "                              'spending_groups': {'trxs_column_name': 'Spending Group',\n",
    "                                          'db_column_name': 'spending_group_name',\n",
    "                                          'db_tbl_name': 'spending_groups_DIM'},\n",
    "                              'accounts': {'trxs_column_name': 'Account',\n",
    "                                          'db_column_name': 'account_name',\n",
    "                                          'db_tbl_name': 'accounts_DIM'}}\n",
    "\n",
    "dimension_data = [categories, spending_groups, accounts]\n",
    "\n",
    "\n",
    "for i, v in enumerate(dimension_data):\n",
    "    trxs_values = list(transactions[list(dimension_update_variables.values())[i].get('trxs_column_name')].unique())\n",
    "    db_values = list(v[list(dimension_update_variables.values())[i].get('db_column_name')])\n",
    "    values_to_add = [x for x in trxs_values if x not in db_values]\n",
    "    \n",
    "    if len(values_to_add > 0):\n",
    "        for j, k in enumerate(values_to_add):\n",
    "            query = f'''\n",
    "                INSERT INTO [dbo].[{list(dimension_update_variables.values())[j].get('db_tbl_name')}] ([{list(dimension_update_variables.values())[j].get('db_column_name')}]) VALUES ('{k}');\n",
    "                '''\n",
    "            print(query)\n",
    "    # cur.execute(query)"
   ]
  },
  {
   "cell_type": "code",
   "execution_count": 39,
   "metadata": {},
   "outputs": [
    {
     "data": {
      "text/plain": [
       "0"
      ]
     },
     "execution_count": 39,
     "metadata": {},
     "output_type": "execute_result"
    }
   ],
   "source": []
  },
  {
   "cell_type": "code",
   "execution_count": 42,
   "metadata": {},
   "outputs": [
    {
     "data": {
      "text/plain": [
       "['Eating Out & Takeaways',\n",
       " 'Coffee',\n",
       " 'Tech & Appliances',\n",
       " 'Medical',\n",
       " 'Savings',\n",
       " 'Vehicle Expenses',\n",
       " 'Home & Garden',\n",
       " 'Groceries',\n",
       " 'Clothing',\n",
       " 'Transport & Fuel',\n",
       " 'Insurance',\n",
       " 'Entertainment',\n",
       " 'Phone & Internet',\n",
       " 'Friends & Family',\n",
       " 'Loans',\n",
       " 'Investments',\n",
       " 'Gifts',\n",
       " 'Uncategorised',\n",
       " 'Cellphone',\n",
       " 'Vehicle Loans',\n",
       " 'Personal Care',\n",
       " 'Salaries & Wages',\n",
       " 'Sport & Fitness',\n",
       " 'Home Utility & Service',\n",
       " 'Interest',\n",
       " 'Bank Charges & Fees',\n",
       " 'Card Repayments']"
      ]
     },
     "execution_count": 42,
     "metadata": {},
     "output_type": "execute_result"
    }
   ],
   "source": []
  }
 ],
 "metadata": {
  "kernelspec": {
   "display_name": "Python 3.10.4 64-bit",
   "language": "python",
   "name": "python3"
  },
  "language_info": {
   "codemirror_mode": {
    "name": "ipython",
    "version": 3
   },
   "file_extension": ".py",
   "mimetype": "text/x-python",
   "name": "python",
   "nbconvert_exporter": "python",
   "pygments_lexer": "ipython3",
   "version": "3.10.4"
  },
  "orig_nbformat": 4,
  "vscode": {
   "interpreter": {
    "hash": "d3e10ef16274dd72e574b8fa73b58450b957d8421a2901baded3cca26fcf5dda"
   }
  }
 },
 "nbformat": 4,
 "nbformat_minor": 2
}
