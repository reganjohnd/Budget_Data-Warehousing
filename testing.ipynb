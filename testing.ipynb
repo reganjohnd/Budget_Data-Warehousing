{
 "cells": [
  {
   "cell_type": "code",
   "execution_count": 40,
   "metadata": {},
   "outputs": [],
   "source": [
    "import pandas as pd\n",
    "import pyodbc as odbc\n",
    "\n",
    "import helper_functions as hf"
   ]
  },
  {
   "cell_type": "code",
   "execution_count": 28,
   "metadata": {},
   "outputs": [],
   "source": [
    "query = 'select * from categories_DIM'\n",
    "DRIVER_NAME = 'SQL SERVER'\n",
    "SERVER_NAME = 'DESKTOP-QAJAHL9\\SQLEXPRESS'\n",
    "DATABASE_NAME = 'budget'\n",
    "connection_string = f'''\n",
    "                    DRIVER={{{DRIVER_NAME}}};\n",
    "                    SERVER={SERVER_NAME};\n",
    "                    DATABASE={DATABASE_NAME};\n",
    "                    Trust_Connection=yes;\n",
    "                    '''\n"
   ]
  },
  {
   "cell_type": "code",
   "execution_count": 37,
   "metadata": {},
   "outputs": [],
   "source": [
    "transactions = pd.read_csv(hf.create_dir(r'G:\\My Drive\\DANIELS ECOSYSTEM\\extracurricularActivities\\DataScience\\Projects\\budget_warehouse', 'transactions_insert.csv'))"
   ]
  },
  {
   "cell_type": "code",
   "execution_count": 38,
   "metadata": {},
   "outputs": [],
   "source": [
    "con = odbc.connect(connection_string)\n",
    "cur = con.cursor()\n",
    "cur.execute(query)\n",
    "colnames = [desc[0] for desc in cur.description]\n",
    "rows = [list(x) for x in cur.fetchall()]\n",
    "df = pd.DataFrame(rows, columns=colnames)\n"
   ]
  },
  {
   "cell_type": "code",
   "execution_count": 41,
   "metadata": {},
   "outputs": [
    {
     "ename": "AttributeError",
     "evalue": "module 'helper_functions' has no attribute 'get_data'",
     "output_type": "error",
     "traceback": [
      "\u001b[1;31m---------------------------------------------------------------------------\u001b[0m",
      "\u001b[1;31mAttributeError\u001b[0m                            Traceback (most recent call last)",
      "\u001b[1;32mc:\\Users\\regan\\OneDrive - 22Seven Digital\\5-scripts\\Github\\Data-Warehousing\\testing.ipynb Cell 5\u001b[0m in \u001b[0;36m<cell line: 1>\u001b[1;34m()\u001b[0m\n\u001b[1;32m----> <a href='vscode-notebook-cell:/c%3A/Users/regan/OneDrive%20-%2022Seven%20Digital/5-scripts/Github/Data-Warehousing/testing.ipynb#W4sZmlsZQ%3D%3D?line=0'>1</a>\u001b[0m hf\u001b[39m.\u001b[39;49mget_data(\u001b[39m'\u001b[39m\u001b[39mselect * from categories_DIM\u001b[39m\u001b[39m'\u001b[39m, \u001b[39m'\u001b[39m\u001b[39mbudget\u001b[39m\u001b[39m'\u001b[39m)\n",
      "\u001b[1;31mAttributeError\u001b[0m: module 'helper_functions' has no attribute 'get_data'"
     ]
    }
   ],
   "source": [
    "hf.get_data('select * from categories_DIM', 'budget')"
   ]
  },
  {
   "cell_type": "code",
   "execution_count": null,
   "metadata": {},
   "outputs": [],
   "source": []
  },
  {
   "cell_type": "code",
   "execution_count": null,
   "metadata": {},
   "outputs": [],
   "source": []
  }
 ],
 "metadata": {
  "kernelspec": {
   "display_name": "Python 3.10.4 64-bit",
   "language": "python",
   "name": "python3"
  },
  "language_info": {
   "codemirror_mode": {
    "name": "ipython",
    "version": 3
   },
   "file_extension": ".py",
   "mimetype": "text/x-python",
   "name": "python",
   "nbconvert_exporter": "python",
   "pygments_lexer": "ipython3",
   "version": "3.10.4"
  },
  "orig_nbformat": 4,
  "vscode": {
   "interpreter": {
    "hash": "d3e10ef16274dd72e574b8fa73b58450b957d8421a2901baded3cca26fcf5dda"
   }
  }
 },
 "nbformat": 4,
 "nbformat_minor": 2
}
